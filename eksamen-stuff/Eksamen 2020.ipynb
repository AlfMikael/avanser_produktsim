{
 "cells": [
  {
   "cell_type": "code",
   "execution_count": 1,
   "id": "82b01ae0",
   "metadata": {},
   "outputs": [],
   "source": [
    "import math\n",
    "import matplotlib.pyplot as plt\n",
    "import numpy as np\n",
    "def s(a):\n",
    "    S = 60.0\n",
    "    return (2*S*math.sin(a)/(math.cos(a)**2 + 9*math.sin(a)**2)**0.5)\n",
    "    "
   ]
  },
  {
   "cell_type": "code",
   "execution_count": 2,
   "id": "608c3649",
   "metadata": {},
   "outputs": [
    {
     "data": {
      "text/plain": [
       "10.154694144397029"
      ]
     },
     "execution_count": 2,
     "metadata": {},
     "output_type": "execute_result"
    }
   ],
   "source": [
    "deg = 5\n",
    "a_rad = deg*math.pi/180\n",
    "s(a_rad)"
   ]
  },
  {
   "cell_type": "code",
   "execution_count": 3,
   "id": "3516134b",
   "metadata": {},
   "outputs": [],
   "source": [
    "import numpy as np"
   ]
  },
  {
   "cell_type": "code",
   "execution_count": 4,
   "id": "81215a13",
   "metadata": {},
   "outputs": [
    {
     "data": {
      "text/plain": [
       "3.7416573867739413"
      ]
     },
     "execution_count": 4,
     "metadata": {},
     "output_type": "execute_result"
    }
   ],
   "source": [
    "vec = np.array([1,2,3])\n",
    "np.linalg.norm(vec)"
   ]
  },
  {
   "cell_type": "code",
   "execution_count": 5,
   "id": "b8570c29",
   "metadata": {},
   "outputs": [
    {
     "data": {
      "text/plain": [
       "3.7416573867739413"
      ]
     },
     "execution_count": 5,
     "metadata": {},
     "output_type": "execute_result"
    }
   ],
   "source": [
    "(1**2 + 2**2 + 3**2)**.5"
   ]
  },
  {
   "cell_type": "code",
   "execution_count": 6,
   "id": "013260d9",
   "metadata": {},
   "outputs": [],
   "source": [
    "# Oppgave 6, residual equation stuff\n",
    "def p(u):\n",
    "    return u**2\n",
    "\n",
    "def dp(u):\n",
    "    return 2*u"
   ]
  },
  {
   "cell_type": "code",
   "execution_count": 7,
   "id": "c64115c3",
   "metadata": {},
   "outputs": [
    {
     "data": {
      "text/plain": [
       "<matplotlib.legend.Legend at 0x23c44532fa0>"
      ]
     },
     "execution_count": 7,
     "metadata": {},
     "output_type": "execute_result"
    },
    {
     "data": {
      "image/png": "[encoded data removed]",
      "text/plain": [
       "<Figure size 432x288 with 1 Axes>"
      ]
     },
     "metadata": {
      "needs_background": "light"
     },
     "output_type": "display_data"
    }
   ],
   "source": [
    "# Oppgave 6a, residual equation stuff\n",
    "\n",
    "lams_euler_forward = [0]\n",
    "lams_euler_backward = [0]\n",
    "lams_trapezoidal = [0]\n",
    "\n",
    "us =  [0]\n",
    "\n",
    "\n",
    "\n",
    "du = 0.5\n",
    "\n",
    "u = 0\n",
    "lam = 0\n",
    "for i in range(5):\n",
    "    lams_euler_forward.append(lams_euler_forward[-1] + dp(u)*du)\n",
    "    lams_euler_backward.append(lams_euler_backward[-1] + dp(u+du)*du)\n",
    "    lams_trapezoidal.append(lams_trapezoidal[-1] + 0.5*(dp(u)*du + dp(u+du)*du))\n",
    "    u += du\n",
    "    us.append(u)\n",
    "\n",
    "plt.plot(us, lams_euler_forward, label=\"Euler forward\")\n",
    "plt.plot(us, lams_euler_backward, label=\"Euler Backward\")\n",
    "plt.plot(us, lams_trapezoidal, label=\"Trapezoidal\")\n",
    "plt.plot([0,3], [4,4] )\n",
    "plt.legend()"
   ]
  },
  {
   "cell_type": "code",
   "execution_count": 8,
   "id": "aedc1426",
   "metadata": {},
   "outputs": [
    {
     "name": "stdout",
     "output_type": "stream",
     "text": [
      "u1 = 1.5,   res = -1.75\n",
      "u2 = 2.0833333333333335,   res = 0.34027777777777857\n",
      "u3 = 2.0016666666666665,   res = 0.006669444444443506\n",
      "u4 = 2.0000006938662227,   res = 2.77546537219564e-06\n",
      "u5 = 2.0000000000001203,   res = 4.813927034774679e-13\n"
     ]
    }
   ],
   "source": [
    "# Oppgave 6d, residual equation stuff\n",
    "u = 1.5\n",
    "def r(u, lam):\n",
    "    return u**2 - lam\n",
    "def dr(u, lam):\n",
    "    return 2*u\n",
    "\n",
    "for i in range(1,6):\n",
    "    u_n = u - r(u, 4)/dr(u, 4)\n",
    "    res = r(u, 4)\n",
    "    print(f\"u{i} = {u},   res = {res}\")\n",
    "    u = u_n"
   ]
  },
  {
   "cell_type": "code",
   "execution_count": null,
   "id": "e4ac617d",
   "metadata": {},
   "outputs": [],
   "source": []
  },
  {
   "cell_type": "code",
   "execution_count": null,
   "id": "cfbbd8fc",
   "metadata": {},
   "outputs": [],
   "source": []
  }
 ],
 "metadata": {
  "kernelspec": {
   "display_name": "Python 3 (ipykernel)",
   "language": "python",
   "name": "python3"
  },
  "language_info": {
   "codemirror_mode": {
    "name": "ipython",
    "version": 3
   },
   "file_extension": ".py",
   "mimetype": "text/x-python",
   "name": "python",
   "nbconvert_exporter": "python",
   "pygments_lexer": "ipython3",
   "version": "3.9.6"
  }
 },
 "nbformat": 4,
 "nbformat_minor": 5
}
