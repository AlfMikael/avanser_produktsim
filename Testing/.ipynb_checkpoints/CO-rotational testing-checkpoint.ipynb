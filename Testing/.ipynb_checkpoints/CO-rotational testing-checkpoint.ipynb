{
 "cells": [
  {
   "cell_type": "code",
   "execution_count": 1,
   "id": "635f7a33",
   "metadata": {},
   "outputs": [],
   "source": [
    "import numpy as np\n",
    "import math"
   ]
  },
  {
   "cell_type": "markdown",
   "id": "905fc32b",
   "metadata": {},
   "source": [
    "## Local deformation displacement"
   ]
  },
  {
   "cell_type": "code",
   "execution_count": 13,
   "id": "68d36153",
   "metadata": {},
   "outputs": [],
   "source": [
    "# Funksjonen in question\n",
    "\n",
    "def rot_matrix(theta):\n",
    "    \"\"\"\n",
    "    Return the 2x2 rotation matrix representing a rotation theta\n",
    "    :param theta:  rotation angle in radians\n",
    "    :return: Rotation matrix (or tensor)\n",
    "    \"\"\"\n",
    "    s = math.sin(theta)\n",
    "    c = math.cos(theta)\n",
    "    R = np.array([[c, -s],\n",
    "                  [s,  c]])\n",
    "    return R\n",
    "\n",
    "def beam2local_def_disp(ex,ey, disp_global):\n",
    "    \"\"\"\n",
    "\n",
    "    :param ex: element x coordinate [x1, x2] in undeformed position\n",
    "    :param ey: element y coordinate [y1, y2] in undeformed position\n",
    "    :param disp_global:  displacement vector [u1, v1, r1, u2, v2, r2] in global directions\n",
    "    :return: disp_local_def: displacement vector [u1, v1, r1, u2, v2, r2] in local directions\n",
    "    \"\"\"\n",
    "    eVec12 = np.array([ex[1] - ex[0], ey[1] - ey[0]])  #ex0\n",
    "    \n",
    "    #L0 = math.sqrt(eVec12 @ eVec12)\n",
    "    L0 = np.linalg.norm(eVec12)\n",
    "    \n",
    "    ex0 = eVec12/L0\n",
    "    \n",
    "    # Finner de deformerte rotasjonene\n",
    "    x1, x2, y1, y2 = ex[0], ex[1], ey[0], ey[1]\n",
    "    u1, v1, u2, v2 = disp_global[0], disp_global[1], disp_global[3], disp_global[4]\n",
    "    r1, r2 = disp_global[2], disp_global[5]\n",
    "    \n",
    "    E_xn = [(x2 + u2) - (x1 + u1),\n",
    "           (y2 + v2) - (y1 + v1)]\n",
    "    E_xn = np.array(E_xn)\n",
    "    \n",
    "    Ld = np.linalg.norm(E_xn) # Nye lengde\n",
    "    e_xn = E_xn / Ld\n",
    "    \n",
    "    e_yn = [-e_xn[1],\n",
    "             e_xn[0]]\n",
    "    e_yn = np.array(e_yn)\n",
    "    #e_yn = e_yn / np.linalg.norm(e_yn)\n",
    "    \n",
    "\n",
    "    R1 = rot_matrix(r1)\n",
    "    R2 = rot_matrix(r2)\n",
    "    \n",
    "    t1 = R1 @ ex0\n",
    "    t2 = R2 @ ex0\n",
    "    \n",
    "#     print(\"e_yn\", e_yn)\n",
    "#     print(\"e_xn\", e_xn)\n",
    "#     print(\"t1\", t1)\n",
    "#     print(\"t2\", t2)\n",
    "#     print(e_yn)\n",
    "#     print(\"e_yn @ t1\", e_yn @ t1)\n",
    "    theta1_def = math.asin(e_yn @ t1)  # husk å transponere\n",
    "    theta2_def = math.asin(e_yn @ t2)  # husk å transponere\n",
    "    \n",
    "\n",
    "    \n",
    "#     print(\"L0\", L0)\n",
    "#     print(\"Ld\", Ld)\n",
    "\n",
    "    def_disp_local = np.array([ -0.5*(Ld - L0),\n",
    "                                0.0,\n",
    "                                theta1_def,\n",
    "                                0.5 * (Ld - L0),\n",
    "                                0.0,\n",
    "                                theta2_def])\n",
    "    return def_disp_local\n"
   ]
  },
  {
   "cell_type": "code",
   "execution_count": 21,
   "id": "c63b1842",
   "metadata": {},
   "outputs": [
    {
     "data": {
      "text/plain": [
       "array([-0.        ,  0.        ,  1.32079633,  0.        ,  0.        ,\n",
       "        1.57079633])"
      ]
     },
     "execution_count": 21,
     "metadata": {},
     "output_type": "execute_result"
    }
   ],
   "source": [
    "ex = np.array([0, 0])\n",
    "ey = np.array([0, 3])\n",
    "disp_global = [0, 0, 0.25, 3, -3, 0]\n",
    "beam2local_def_disp(ex, ey, disp_global)"
   ]
  },
  {
   "cell_type": "code",
   "execution_count": 8,
   "id": "383738d4",
   "metadata": {},
   "outputs": [
    {
     "ename": "ValueError",
     "evalue": "math domain error",
     "output_type": "error",
     "traceback": [
      "\u001b[1;31m---------------------------------------------------------------------------\u001b[0m",
      "\u001b[1;31mValueError\u001b[0m                                Traceback (most recent call last)",
      "\u001b[1;32m~\\AppData\\Local\\Temp/ipykernel_22548/3189216299.py\u001b[0m in \u001b[0;36m<module>\u001b[1;34m\u001b[0m\n\u001b[1;32m----> 1\u001b[1;33m \u001b[0mmath\u001b[0m\u001b[1;33m.\u001b[0m\u001b[0masin\u001b[0m\u001b[1;33m(\u001b[0m\u001b[1;33m-\u001b[0m\u001b[1;36m2\u001b[0m\u001b[1;33m)\u001b[0m\u001b[1;33m\u001b[0m\u001b[1;33m\u001b[0m\u001b[0m\n\u001b[0m",
      "\u001b[1;31mValueError\u001b[0m: math domain error"
     ]
    }
   ],
   "source": [
    "math.asin(-2)"
   ]
  },
  {
   "cell_type": "code",
   "execution_count": null,
   "id": "5ce18ebd",
   "metadata": {},
   "outputs": [],
   "source": [
    "e_yn = [-4, 0]\n",
    "e_yn = np.array(e_yn)\n",
    "t1 = [1, 1]\n",
    "e_yn @ t1"
   ]
  },
  {
   "cell_type": "code",
   "execution_count": null,
   "id": "b1bbc8a5",
   "metadata": {},
   "outputs": [],
   "source": [
    "# Deformation element fra eksamen 2020\n",
    "x1 = np.array([1, 0.5])\n",
    "x2 = np.array([2.0, 1.0])\n",
    "v = disp_global\n",
    "\n",
    "v_glob1 = np.array([0.25, 0.3])\n",
    "v_glob2 = np.array([-0.1, 1])\n",
    "v_glob = np.concatenate((v_glob1, v_glob2))\n",
    "L0_vec = x2 - x1\n",
    "L0_vec @ L0_vec\n",
    "#L0 = np.linalg.norm(L0_vec)"
   ]
  },
  {
   "cell_type": "code",
   "execution_count": null,
   "id": "2b489b46",
   "metadata": {},
   "outputs": [],
   "source": []
  }
 ],
 "metadata": {
  "kernelspec": {
   "display_name": "Python 3 (ipykernel)",
   "language": "python",
   "name": "python3"
  },
  "language_info": {
   "codemirror_mode": {
    "name": "ipython",
    "version": 3
   },
   "file_extension": ".py",
   "mimetype": "text/x-python",
   "name": "python",
   "nbconvert_exporter": "python",
   "pygments_lexer": "ipython3",
   "version": "3.9.6"
  }
 },
 "nbformat": 4,
 "nbformat_minor": 5
}
