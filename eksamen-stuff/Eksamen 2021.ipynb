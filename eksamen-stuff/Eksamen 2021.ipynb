{
 "cells": [
  {
   "cell_type": "code",
   "execution_count": 1,
   "id": "261da8e3",
   "metadata": {},
   "outputs": [],
   "source": [
    "import matplotlib.pyplot as plt\n",
    "import numpy as np\n",
    "import math"
   ]
  },
  {
   "cell_type": "code",
   "execution_count": 2,
   "id": "fc8c2570",
   "metadata": {},
   "outputs": [],
   "source": [
    "# Purely incremental\n",
    "def p(u):\n",
    "    return math.e**u\n",
    "\n",
    "def dp(u):\n",
    "    return math.e**u\n",
    "\n",
    "def f(lam):\n",
    "    return lam\n"
   ]
  },
  {
   "cell_type": "code",
   "execution_count": 3,
   "id": "b7515bdf",
   "metadata": {},
   "outputs": [
    {
     "data": {
      "text/plain": [
       "[<matplotlib.lines.Line2D at 0x263888770a0>]"
      ]
     },
     "execution_count": 3,
     "metadata": {},
     "output_type": "execute_result"
    },
    {
     "data": {
      "image/png": "[encoded data removed]",
      "text/plain": [
       "<Figure size 432x288 with 1 Axes>"
      ]
     },
     "metadata": {
      "needs_background": "light"
     },
     "output_type": "display_data"
    }
   ],
   "source": [
    "# Euler forward\n",
    "delta_u = 0.5\n",
    "lam0 = 1\n",
    "num_iter = 6\n",
    "u0 = 0\n",
    "\n",
    "\n",
    "us = [u0]\n",
    "lams = [lam0]\n",
    "lam = lam0\n",
    "u = u0\n",
    "\n",
    "for x in range(num_iter):\n",
    "    us.append(u)\n",
    "    lams.append(lam)\n",
    "    lam = lam + dp(u)*delta_u\n",
    "    u += delta_u\n",
    "plt.plot(us, lams)\n",
    "\n",
    "# Euler backward\n",
    "delta_u = 0.5\n",
    "lam0 = 1\n",
    "num_iter = 6\n",
    "u0 = 0\n",
    "us = [u0]\n",
    "lams = [lam0]\n",
    "lam = lam0\n",
    "u = u0\n",
    "for x in range(num_iter):\n",
    "    us.append(u)\n",
    "    lams.append(lam)\n",
    "    lam = lam + dp(u+delta_u)*delta_u\n",
    "    u += delta_u\n",
    "plt.plot(us, lams)\n",
    "\n",
    "\n",
    "# Trapezoidal\n",
    "delta_u = 0.5\n",
    "lam0 = 1\n",
    "num_iter = 6\n",
    "u0 = 0\n",
    "lam = lam0\n",
    "us = [u0]\n",
    "lams = [lam0]\n",
    "u = u0\n",
    "for x in range(num_iter):\n",
    "    us.append(u)\n",
    "    lams.append(lam)\n",
    "    lam = lam + 0.5*(dp(u) + dp(u+delta_u))*delta_u\n",
    "    u += delta_u\n",
    "plt.plot(us, lams)\n",
    "plt.plot([0,3], [6,6])"
   ]
  },
  {
   "cell_type": "code",
   "execution_count": 4,
   "id": "708e200f",
   "metadata": {},
   "outputs": [],
   "source": [
    "u = 0"
   ]
  },
  {
   "cell_type": "code",
   "execution_count": null,
   "id": "112a9354",
   "metadata": {},
   "outputs": [],
   "source": []
  }
 ],
 "metadata": {
  "kernelspec": {
   "display_name": "Python 3 (ipykernel)",
   "language": "python",
   "name": "python3"
  },
  "language_info": {
   "codemirror_mode": {
    "name": "ipython",
    "version": 3
   },
   "file_extension": ".py",
   "mimetype": "text/x-python",
   "name": "python",
   "nbconvert_exporter": "python",
   "pygments_lexer": "ipython3",
   "version": "3.9.6"
  }
 },
 "nbformat": 4,
 "nbformat_minor": 5
}
