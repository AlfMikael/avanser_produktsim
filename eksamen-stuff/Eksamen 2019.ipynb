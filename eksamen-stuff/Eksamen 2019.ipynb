{
 "cells": [
  {
   "cell_type": "code",
   "execution_count": 9,
   "id": "faf44fdd",
   "metadata": {},
   "outputs": [],
   "source": [
    "import matplotlib.pyplot as plt\n",
    "import numpy as np\n",
    "import math\n",
    "from math import sin, cos, tan"
   ]
  },
  {
   "cell_type": "code",
   "execution_count": 10,
   "id": "11fe62a7",
   "metadata": {},
   "outputs": [],
   "source": [
    "F = 10\n",
    "def s(alph):\n",
    "    return 2*F/(tan(alph))"
   ]
  },
  {
   "cell_type": "code",
   "execution_count": 11,
   "id": "fedab2ea",
   "metadata": {},
   "outputs": [],
   "source": [
    "x = np.linspace(0.1, math.pi*0.45, 200)\n",
    "y = [s(a) for a in x]"
   ]
  },
  {
   "cell_type": "code",
   "execution_count": 12,
   "id": "6d92751f",
   "metadata": {},
   "outputs": [
    {
     "data": {
      "text/plain": [
       "[<matplotlib.lines.Line2D at 0x1b8c51650d0>]"
      ]
     },
     "execution_count": 12,
     "metadata": {},
     "output_type": "execute_result"
    },
    {
     "data": {
      "image/png": "[encoded data removed]",
      "text/plain": [
       "<Figure size 432x288 with 1 Axes>"
      ]
     },
     "metadata": {
      "needs_background": "light"
     },
     "output_type": "display_data"
    }
   ],
   "source": [
    "plt.plot(x*180/math.pi,y)\n",
    "plt.plot([0,80], [60,60])"
   ]
  },
  {
   "cell_type": "code",
   "execution_count": 13,
   "id": "78d88573",
   "metadata": {},
   "outputs": [],
   "source": [
    "#for ang, s in zip(x,y):\n",
    "#    print(round(ang, 1)*180/math.pi, round(s,1))"
   ]
  },
  {
   "cell_type": "code",
   "execution_count": 14,
   "id": "00b7e09e",
   "metadata": {},
   "outputs": [
    {
     "name": "stdout",
     "output_type": "stream",
     "text": [
      "a1 6.769761947129522\n",
      "a2 0.00022908666051106157\n"
     ]
    }
   ],
   "source": [
    "# Oppgave 3d) dampening\n",
    "w1 = 800*2*math.pi/60\n",
    "w2 = 8000*2*math.pi/60\n",
    "a1 = (2*w1*w2)*(0.05*w2 - 0.1*w1)/(w2**2-w1**2)\n",
    "print(\"a1\", a1)\n",
    "\n",
    "a2 = 2*(0.1*w2-0.05*w1)/(w2**2-w1**2)\n",
    "print(\"a2\", a2)\n"
   ]
  },
  {
   "cell_type": "code",
   "execution_count": 15,
   "id": "e5a2de0f",
   "metadata": {},
   "outputs": [
    {
     "name": "stdout",
     "output_type": "stream",
     "text": [
      "Deformation in local system\n",
      " [-0.12335021  0.          0.12335021  0.        ]\n"
     ]
    }
   ],
   "source": [
    "# Deformation element fra eksamen 2020\n",
    "x1 = np.array([1, 0.5])\n",
    "x2 = np.array([2.0, 1.0])\n",
    "v = [.2, .3, .5, -.1, 1, .6]\n",
    "\n",
    "v_glob1 = np.array([0.25, 0.3])\n",
    "v_glob2 = np.array([-0.1, 1])\n",
    "v_glob = np.concatenate((v_glob1, v_glob2))\n",
    "L0_vec = x2 - x1\n",
    "L0 = np.linalg.norm(L0_vec)\n",
    "Ld_vec = (x2 + v_glob2) - (x1+v_glob1)\n",
    "Ld = np.linalg.norm(Ld_vec)\n",
    "\n",
    "deformation = Ld - L0\n",
    "v_loc = np.array([-deformation/2, 0, deformation/2, 0])\n",
    "print(\"Deformation in local system\\n\", v_loc)"
   ]
  },
  {
   "cell_type": "code",
   "execution_count": 16,
   "id": "bb56b3d5",
   "metadata": {},
   "outputs": [
    {
     "name": "stdout",
     "output_type": "stream",
     "text": [
      "[0.7 1.2]\n",
      "Utgangs-vinkel 0.4636476090008061\n",
      "Ny vinkel 1.042721878368537\n",
      "Deformation in local system\n",
      " [ 0.          0.         -0.07907427  0.27121041  0.          0.02092573]\n"
     ]
    }
   ],
   "source": [
    "# Oppgave 5\n",
    "x1 = np.array([1, 0.5])\n",
    "x2 = np.array([2.0, 1.0])\n",
    "v = [.2, .3, .5, -.1, 1, .6]\n",
    "v_glob1 = v[:2]\n",
    "v_glob2 = v[3:5]\n",
    "\n",
    "L0_vec = x2 - x1 # vector that represents original bar\n",
    "L0 = np.linalg.norm(L0_vec) # Length of original bar\n",
    "\n",
    "org_vinkel = math.atan(L0_vec[1]/L0_vec[0]) # Angle of original bar\n",
    "\n",
    "\n",
    "Ld_vec = (x2 + v_glob2) - (x1+v_glob1)  # vector that represents new bar\n",
    "print(Ld_vec)\n",
    "ny_vinkel = math.atan(Ld_vec[1]/Ld_vec[0]) # angle of new bar\n",
    "\n",
    "vinkel_endring = ny_vinkel - org_vinkel\n",
    "\n",
    "print(\"Utgangs-vinkel\", org_vinkel)\n",
    "print(\"Ny vinkel\", ny_vinkel)\n",
    "\n",
    "\n",
    "Ld = np.linalg.norm(Ld_vec) # Length of new bar\n",
    "\n",
    "deformation = Ld - L0\n",
    "\n",
    "def_vinkel1_loc = v[2] - vinkel_endring\n",
    "def_vinkel2_loc = v[5] - vinkel_endring\n",
    "\n",
    "\n",
    "v_loc = np.array([0, 0, def_vinkel1_loc, deformation, 0, def_vinkel2_loc ])\n",
    "print(\"Deformation in local system\\n\", v_loc)"
   ]
  },
  {
   "cell_type": "code",
   "execution_count": 11,
   "id": "84c318ce",
   "metadata": {},
   "outputs": [],
   "source": [
    "# Oppgave 6 euler stuff\n",
    "def r(theta, lam):\n",
    "    return math.tan(theta) - lam\n",
    "def dr(theta, lam):\n",
    "    return 1/(math.cos(theta))**2"
   ]
  },
  {
   "cell_type": "code",
   "execution_count": 51,
   "id": "664754f3",
   "metadata": {},
   "outputs": [
    {
     "name": "stdout",
     "output_type": "stream",
     "text": [
      "Svar er ca 0.85\n",
      "Ved å se på grafen kan det estimeres til 0.83 -0.009041733923688566\n",
      "Ved høyere presisjon blir svaret ca 0.98 -0.009041733923688566\n"
     ]
    },
    {
     "data": {
      "image/png": "[encoded data removed]",
      "text/plain": [
       "<Figure size 432x288 with 1 Axes>"
      ]
     },
     "metadata": {
      "needs_background": "light"
     },
     "output_type": "display_data"
    }
   ],
   "source": [
    "lam_0 = 0\n",
    "theta_0 = 0\n",
    "thetas = [theta_0]\n",
    "lams = [lam_0]\n",
    "\n",
    "theta = theta_0\n",
    "lam = lam_0\n",
    "for i in range(3):\n",
    "    theta += 0.4\n",
    "    lam = lam + dr(theta, lam)*0.4\n",
    "    thetas.append(theta)\n",
    "    lams.append(lam)\n",
    "    #print(\"residual:\", r(theta, lam))\n",
    "    \n",
    "plt.plot(thetas, lams)\n",
    "\n",
    "\n",
    "thetas = [theta_0]\n",
    "lams = [lam_0]\n",
    "\n",
    "theta = theta_0\n",
    "lam = lam_0\n",
    "for i in range(100):\n",
    "    theta += 0.01\n",
    "    lam = lam + dr(theta, lam)*0.01\n",
    "    thetas.append(theta)\n",
    "    lams.append(lam)\n",
    "    #print(\"residual:\", r(theta, lam))\n",
    "    \n",
    "plt.plot(thetas, lams)\n",
    "\n",
    "\n",
    "plt.plot([0, 1.2], [1.5, 1.5])\n",
    "\n",
    "    \n",
    "\n",
    "print(\"Svar er ca 0.85\")\n",
    "print(\"Ved å se på grafen kan det estimeres til 0.83\", r(0.98, 1.5))\n",
    "print(\"Ved høyere presisjon blir svaret ca 0.98\", r(0.98, 1.5))"
   ]
  },
  {
   "cell_type": "code",
   "execution_count": null,
   "id": "f63a9d94",
   "metadata": {},
   "outputs": [],
   "source": []
  }
 ],
 "metadata": {
  "kernelspec": {
   "display_name": "Python 3 (ipykernel)",
   "language": "python",
   "name": "python3"
  },
  "language_info": {
   "codemirror_mode": {
    "name": "ipython",
    "version": 3
   },
   "file_extension": ".py",
   "mimetype": "text/x-python",
   "name": "python",
   "nbconvert_exporter": "python",
   "pygments_lexer": "ipython3",
   "version": "3.9.7"
  }
 },
 "nbformat": 4,
 "nbformat_minor": 5
}
