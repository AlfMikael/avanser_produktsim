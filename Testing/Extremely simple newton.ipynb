{
 "cells": [
  {
   "cell_type": "code",
   "execution_count": 2,
   "id": "d3009939",
   "metadata": {},
   "outputs": [],
   "source": [
    "import matplotlib.pyplot as plt\n",
    "import math\n",
    "import numpy"
   ]
  },
  {
   "cell_type": "code",
   "execution_count": 10,
   "id": "2af2a955",
   "metadata": {},
   "outputs": [],
   "source": [
    "def f(x, a):\n",
    "    return x**2 - a\n",
    "\n",
    "def df(x, a):\n",
    "    return 2*x"
   ]
  },
  {
   "cell_type": "code",
   "execution_count": 11,
   "id": "7a883182",
   "metadata": {},
   "outputs": [
    {
     "name": "stdout",
     "output_type": "stream",
     "text": [
      "1\n",
      "2.0\n",
      "1.75\n",
      "1.7321428571428572\n",
      "1.7320508100147276\n",
      "1.7320508075688772\n"
     ]
    }
   ],
   "source": [
    "# Extremely simple Newthod method\n",
    "# f(x) = x^2 - a\n",
    "# x0 = initial guess\n",
    "a = 3\n",
    "x0 = 1\n",
    "max_iterations = 6\n",
    "xk = x0\n",
    "for i in range(max_iterations):\n",
    "    print(xk)\n",
    "    xk_p1 = xk - f(xk, a)/df(xk,a)\n",
    "    xk = xk_p1\n",
    "\n",
    "\n",
    "\n",
    "\n",
    "\n",
    "\n"
   ]
  },
  {
   "cell_type": "code",
   "execution_count": null,
   "id": "5cf815fc",
   "metadata": {},
   "outputs": [],
   "source": []
  },
  {
   "cell_type": "code",
   "execution_count": null,
   "id": "aadc2674",
   "metadata": {},
   "outputs": [],
   "source": []
  }
 ],
 "metadata": {
  "kernelspec": {
   "display_name": "Python 3 (ipykernel)",
   "language": "python",
   "name": "python3"
  },
  "language_info": {
   "codemirror_mode": {
    "name": "ipython",
    "version": 3
   },
   "file_extension": ".py",
   "mimetype": "text/x-python",
   "name": "python",
   "nbconvert_exporter": "python",
   "pygments_lexer": "ipython3",
   "version": "3.9.6"
  }
 },
 "nbformat": 4,
 "nbformat_minor": 5
}
