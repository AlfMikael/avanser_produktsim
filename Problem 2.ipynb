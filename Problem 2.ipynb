{
 "cells": [
  {
   "cell_type": "code",
   "execution_count": 19,
   "id": "2d86d867",
   "metadata": {},
   "outputs": [],
   "source": [
    "import matplotlib.pyplot as plt\n",
    "import numpy as  np\n",
    "import math\n",
    "from math import sin, cos"
   ]
  },
  {
   "cell_type": "code",
   "execution_count": 35,
   "id": "41bc2012",
   "metadata": {},
   "outputs": [],
   "source": [
    "R = 1000\n",
    "h = 10\n",
    "L = 1600\n",
    "H = 400\n",
    "E = 2.1E5\n",
    "\n",
    "alpha0 = math.asin(600/1000)\n",
    "arc_length = alpha0*2*1000\n",
    "d_alpha = (math.pi - alpha0*2)/20"
   ]
  },
  {
   "cell_type": "code",
   "execution_count": 37,
   "id": "92b97c1a",
   "metadata": {},
   "outputs": [
    {
     "name": "stdout",
     "output_type": "stream",
     "text": [
      "36.86989764584402 164.38214329581837\n"
     ]
    },
    {
     "data": {
      "text/plain": [
       "[0.8,\n",
       " 0.7410049468079913,\n",
       " 0.6756427312370883,\n",
       " 0.6044749849495045,\n",
       " 0.528113224236332,\n",
       " 0.44721359549995804,\n",
       " 0.36247123724758906,\n",
       " 0.27461430704104345,\n",
       " 0.18439772472687038,\n",
       " 0.09259668570874129,\n",
       " 6.123233995736766e-17,\n",
       " -0.09259668570874116,\n",
       " -0.18439772472687024,\n",
       " -0.27461430704104356,\n",
       " -0.36247123724758895,\n",
       " -0.4472135954999579,\n",
       " -0.5281132242363319,\n",
       " -0.6044749849495042,\n",
       " -0.6756427312370884,\n",
       " -0.7410049468079913,\n",
       " -0.8]"
      ]
     },
     "execution_count": 37,
     "metadata": {},
     "output_type": "execute_result"
    },
    {
     "data": {
      "image/png": "[encoded data removed]",
      "text/plain": [
       "<Figure size 432x288 with 1 Axes>"
      ]
     },
     "metadata": {
      "needs_background": "light"
     },
     "output_type": "display_data"
    }
   ],
   "source": [
    "\n",
    "x = [cos(alpha0 + i*d_alpha) for i in range(0, 21)]\n",
    "y = [sin(alpha0 + i*d_alpha) for i in range(0, 21)]\n",
    "plt.plot(x,y)\n",
    "alpha_en = (alpha0 + 24*d_alpha)*180/math.pi\n",
    "print(alpha0*180/math.pi, alpha_en)\n",
    "(alpha0+ math.pi/2)*180/math.pi\n"
   ]
  },
  {
   "cell_type": "code",
   "execution_count": null,
   "id": "20c6b557",
   "metadata": {},
   "outputs": [],
   "source": []
  }
 ],
 "metadata": {
  "kernelspec": {
   "display_name": "Python 3 (ipykernel)",
   "language": "python",
   "name": "python3"
  },
  "language_info": {
   "codemirror_mode": {
    "name": "ipython",
    "version": 3
   },
   "file_extension": ".py",
   "mimetype": "text/x-python",
   "name": "python",
   "nbconvert_exporter": "python",
   "pygments_lexer": "ipython3",
   "version": "3.9.7"
  }
 },
 "nbformat": 4,
 "nbformat_minor": 5
}
