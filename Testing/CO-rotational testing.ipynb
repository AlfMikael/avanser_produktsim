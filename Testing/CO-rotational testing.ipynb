{
 "cells": [
  {
   "cell_type": "code",
   "execution_count": 1,
   "id": "635f7a33",
   "metadata": {},
   "outputs": [],
   "source": [
    "import numpy as np\n",
    "import math"
   ]
  },
  {
   "cell_type": "markdown",
   "id": "c33d3234",
   "metadata": {},
   "source": [
    "## Local deformation displacement"
   ]
  },
  {
   "cell_type": "code",
   "execution_count": 39,
   "id": "68d36153",
   "metadata": {},
   "outputs": [],
   "source": [
    "# Funksjonen in question\n",
    "\n",
    "def rot_matrix(theta):\n",
    "    \"\"\"\n",
    "    Return the 2x2 rotation matrix representing a rotation theta\n",
    "    :param theta:  rotation angle in radians\n",
    "    :return: Rotation matrix (or tensor)\n",
    "    \"\"\"\n",
    "    s = math.sin(theta)\n",
    "    c = math.cos(theta)\n",
    "    R = np.array([[c, -s],\n",
    "                  [s,  c]])\n",
    "    return R\n",
    "\n",
    "def beam2local_def_disp(ex,ey, disp_global):\n",
    "    \"\"\"\n",
    "\n",
    "    :param ex: element x coordinate [x1, x2] in undeformed position\n",
    "    :param ey: element y coordinate [y1, y2] in undeformed position\n",
    "    :param disp_global:  displacement vector [u1, v1, r1, u2, v2, r2] in global directions\n",
    "    :return: disp_local_def: displacement vector [u1, v1, r1, u2, v2, r2] in local directions\n",
    "    \"\"\"\n",
    "    eVec12 = np.array([ex[1] - ex[0], ey[1] - ey[0]])  #ex0\n",
    "    \n",
    "    #L0 = math.sqrt(eVec12 @ eVec12)\n",
    "    L0 = np.linalg.norm(eVec12)\n",
    "    \n",
    "    ex0 = eVec12/L0\n",
    "    \n",
    "    # Finner de deformerte rotasjonene\n",
    "    x1, x2, y1, y2 = ex[0], ex[1], ey[0], ey[1]\n",
    "    u1, v1, u2, v2 = disp_global[0], disp_global[1], disp_global[3], disp_global[4]\n",
    "    r1, r2 = disp_global[2], disp_global[5]\n",
    "    \n",
    "    E_xn = [(x2 + u2) - (x1 + u1),\n",
    "           (y2 + v2) - (y1 + v1)]\n",
    "    E_xn = np.array(E_xn)\n",
    "    \n",
    "    Ld = np.linalg.norm(E_xn) # Nye lengde\n",
    "    e_xn = E_xn / Ld\n",
    "    \n",
    "    e_yn = [-e_xn[1],\n",
    "             e_xn[0]]\n",
    "    e_yn = np.array(e_yn)\n",
    "    #e_yn = e_yn / np.linalg.norm(e_yn)\n",
    "    \n",
    "\n",
    "    R1 = rot_matrix(r1)\n",
    "    R2 = rot_matrix(r2)\n",
    "    \n",
    "    t1 = R1 @ ex0\n",
    "    t2 = R2 @ ex0\n",
    "    \n",
    "#     print(\"e_yn\", e_yn)\n",
    "#     print(\"e_xn\", e_xn)\n",
    "#     print(\"t1\", t1)\n",
    "#     print(\"t2\", t2)\n",
    "#     print(e_yn)\n",
    "#     print(\"e_yn @ t1\", e_yn @ t1)\n",
    "    theta1_def = math.asin(e_yn @ t1)  # husk å transponere\n",
    "    theta2_def = math.asin(e_yn @ t2)  # husk å transponere\n",
    "    \n",
    "\n",
    "    \n",
    "#     print(\"L0\", L0)\n",
    "#     print(\"Ld\", Ld)\n",
    "\n",
    "    def_disp_local = np.array([ -0.5*(Ld - L0),\n",
    "                                0.0,\n",
    "                                theta1_def,\n",
    "                                0.5 * (Ld - L0),\n",
    "                                0.0,\n",
    "                                theta2_def])\n",
    "    return def_disp_local\n",
    "\n",
    "def get_theta_of_deformed(ex, ey, disp_global):\n",
    "    \"\"\"\n",
    "\n",
    "    :param ex: element x coordinate [x1, x2] in undeformed position\n",
    "    :param ey: element y coordinate [y1, y2] in undeformed position\n",
    "    :param disp_global:  displacement vector [u1, v1, r1, u2, v2, r2] in global directions\n",
    "    :return: disp_local_def: displacement vector [u1, v1, r1, u2, v2, r2] in local directions\n",
    "    \"\"\"\n",
    "    eVec12 = np.array([ex[1] - ex[0], ey[1] - ey[0]])  #ex0\n",
    "    \n",
    "    L0 = np.linalg.norm(eVec12)\n",
    "    \n",
    "    ex0 = eVec12/L0\n",
    "    \n",
    "    # Finner de deformerte rotasjonene\n",
    "    x1, x2, y1, y2 = ex[0], ex[1], ey[0], ey[1]\n",
    "    u1, v1, u2, v2 = disp_global[0], disp_global[1], disp_global[3], disp_global[4]\n",
    "    r1, r2 = disp_global[2], disp_global[5]\n",
    "    \n",
    "    E_xn = [(x2 + u2) - (x1 + u1),\n",
    "           (y2 + v2) - (y1 + v1)]\n",
    "    E_xn = np.array(E_xn)\n",
    "    \n",
    "    Ld = np.linalg.norm(E_xn) # Nye lengde\n",
    "    e_xn = E_xn / Ld\n",
    "    \n",
    "    e_yn = [-e_xn[1],\n",
    "             e_xn[0]]\n",
    "    e_yn = np.array(e_yn)\n",
    "    #e_yn = e_yn / np.linalg.norm(e_yn)\n",
    "    \n",
    "    theta = math.atan(e_xn[1]/e_xn[0])\n",
    "    return theta\n"
   ]
  },
  {
   "cell_type": "code",
   "execution_count": 40,
   "id": "c63b1842",
   "metadata": {},
   "outputs": [],
   "source": [
    "ex = np.array([0, 0])\n",
    "ey = np.array([0, 3])\n",
    "disp_global = [0, 0, 0.25, 3, -3, 0]\n",
    "mat = beam2local_def_disp(ex, ey, disp_global)"
   ]
  },
  {
   "cell_type": "code",
   "execution_count": 46,
   "id": "b6237c75",
   "metadata": {},
   "outputs": [
    {
     "name": "stdout",
     "output_type": "stream",
     "text": [
      "1.5707963267948966\n"
     ]
    },
    {
     "name": "stderr",
     "output_type": "stream",
     "text": [
      "C:\\Users\\Alf\\AppData\\Local\\Temp/ipykernel_22548/2432329662.py:107: RuntimeWarning: divide by zero encountered in double_scalars\n",
      "  theta0 = math.atan(e_xn[1]/e_xn[0])\n"
     ]
    }
   ],
   "source": [
    "ex = np.array([0, 0])\n",
    "ey = np.array([0, 3])\n",
    "disp_global = [0, 0, 0, 0, 0, 0]\n",
    "mat = get_theta_of_deformed(ex, ey, disp_global)\n"
   ]
  },
  {
   "cell_type": "code",
   "execution_count": 27,
   "id": "2c987c94",
   "metadata": {},
   "outputs": [
    {
     "data": {
      "text/plain": [
       "array([[1, 4],\n",
       "       [2, 4],\n",
       "       [3, 4]])"
      ]
     },
     "execution_count": 27,
     "metadata": {},
     "output_type": "execute_result"
    }
   ],
   "source": [
    "np.array([[1,2,3],[4,4,4]]).T"
   ]
  },
  {
   "cell_type": "code",
   "execution_count": 25,
   "id": "5ce18ebd",
   "metadata": {},
   "outputs": [
    {
     "data": {
      "text/plain": [
       "-4"
      ]
     },
     "execution_count": 25,
     "metadata": {},
     "output_type": "execute_result"
    }
   ],
   "source": [
    "e_yn = [-4, 0]\n",
    "e_yn = np.array(e_yn)\n",
    "t1 = [1, 1]\n",
    "e_yn @ t1"
   ]
  },
  {
   "cell_type": "code",
   "execution_count": null,
   "id": "b1bbc8a5",
   "metadata": {},
   "outputs": [],
   "source": [
    "# Deformation element fra eksamen 2020\n",
    "x1 = np.array([1, 0.5])\n",
    "x2 = np.array([2.0, 1.0])\n",
    "v = disp_global\n",
    "\n",
    "v_glob1 = np.array([0.25, 0.3])\n",
    "v_glob2 = np.array([-0.1, 1])\n",
    "v_glob = np.concatenate((v_glob1, v_glob2))\n",
    "L0_vec = x2 - x1\n",
    "L0_vec @ L0_vec\n",
    "#L0 = np.linalg.norm(L0_vec)"
   ]
  },
  {
   "cell_type": "code",
   "execution_count": null,
   "id": "2b489b46",
   "metadata": {},
   "outputs": [],
   "source": []
  }
 ],
 "metadata": {
  "kernelspec": {
   "display_name": "Python 3 (ipykernel)",
   "language": "python",
   "name": "python3"
  },
  "language_info": {
   "codemirror_mode": {
    "name": "ipython",
    "version": 3
   },
   "file_extension": ".py",
   "mimetype": "text/x-python",
   "name": "python",
   "nbconvert_exporter": "python",
   "pygments_lexer": "ipython3",
   "version": "3.9.6"
  }
 },
 "nbformat": 4,
 "nbformat_minor": 5
}
