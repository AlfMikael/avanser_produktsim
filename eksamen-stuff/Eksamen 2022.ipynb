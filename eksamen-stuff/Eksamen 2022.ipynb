{
 "cells": [
  {
   "cell_type": "code",
   "execution_count": 1,
   "id": "faf44fdd",
   "metadata": {},
   "outputs": [],
   "source": [
    "import matplotlib.pyplot as plt\n",
    "import numpy as np\n",
    "import math\n",
    "from math import sin, cos, tan"
   ]
  },
  {
   "cell_type": "markdown",
   "id": "30299d11",
   "metadata": {},
   "source": [
    "## Notebook for bruk på selve eksamen 2022\n"
   ]
  },
  {
   "cell_type": "code",
   "execution_count": 2,
   "id": "5cd5f96e",
   "metadata": {},
   "outputs": [],
   "source": [
    "# Oppgave 1"
   ]
  },
  {
   "cell_type": "code",
   "execution_count": 3,
   "id": "e39cd56b",
   "metadata": {},
   "outputs": [],
   "source": [
    "# Oppgave 2"
   ]
  },
  {
   "cell_type": "code",
   "execution_count": 4,
   "id": "6f1cb8cb",
   "metadata": {},
   "outputs": [],
   "source": [
    "# Oppgave 3"
   ]
  },
  {
   "cell_type": "code",
   "execution_count": 5,
   "id": "9ad26089",
   "metadata": {},
   "outputs": [],
   "source": [
    "# Oppgave 4"
   ]
  },
  {
   "cell_type": "code",
   "execution_count": 6,
   "id": "d1be1c53",
   "metadata": {},
   "outputs": [],
   "source": [
    "# Oppgave 5"
   ]
  },
  {
   "cell_type": "code",
   "execution_count": 48,
   "id": "e2984a0b",
   "metadata": {},
   "outputs": [
    {
     "name": "stdout",
     "output_type": "stream",
     "text": [
      "Euler residuals [0, -0.25, -0.5, -0.75, -1.0, -1.25]\n",
      "Midpoint residuals [0, -0.5, -1.0, -1.5, -2.0, -2.5]\n",
      "\n",
      "Estimated solutions:\n",
      "Euler forward:  1.22\n",
      "Midpoint:  1.4\n"
     ]
    },
    {
     "data": {
      "image/png": "[encoded data removed]",
      "text/plain": [
       "<Figure size 432x288 with 1 Axes>"
      ]
     },
     "metadata": {
      "needs_background": "light"
     },
     "output_type": "display_data"
    }
   ],
   "source": [
    "# Oppgave 6 a og b)\n",
    "def r(u, lam):\n",
    "    return u + u**2 - lam\n",
    "\n",
    "def dr(u):\n",
    "    return 1 + 2*u\n",
    "\n",
    "delta_u = 0.5\n",
    "lam0 = 0\n",
    "u0 = 0\n",
    "\n",
    "us = [u0]\n",
    "lams_euler = [lam0]\n",
    "residuals_euler = [0]\n",
    "lams_mid = [lam0]\n",
    "residuals_mid = [0]\n",
    "\n",
    "lam_euler = lam0\n",
    "lam_mid = lam0\n",
    "u = u0\n",
    "for x in range(num_iter):\n",
    "    u = u + delta_u\n",
    "    lam_euler = lam_euler + dr(u)*delta_u\n",
    "    lam_mid = lam_mid + dr(u + delta_u/2)*delta_u\n",
    "    \n",
    "    lams_euler.append(lam_euler)\n",
    "    residuals_euler.append(r(u, lam_euler))\n",
    "    \n",
    "    lams_mid.append(lam_mid)\n",
    "    residuals_mid.append(r(u, lam_mid))\n",
    "    \n",
    "    us.append(u)\n",
    "    \n",
    "plt.plot(us, lams_euler, label=\"Euler forward\")\n",
    "plt.plot(us, lams_mid, label=\"Explicit mid-point rule\")\n",
    "plt.plot([0,2], [4,4], color=\"black\")\n",
    "plt.plot([1.22, 1.22], [0, 5], color=\"orange\")\n",
    "plt.plot([1.4, 1.4], [0, 5], color=\"blue\")\n",
    "plt.legend()\n",
    "\n",
    "print(\"Euler residuals\", residuals_euler)\n",
    "print(\"Midpoint residuals\", residuals_mid)\n",
    "print(\"\")\n",
    "print(\"Estimated solutions:\")\n",
    "print(\"Euler forward: \", 1.22)\n",
    "print(\"Midpoint: \", 1.4)\n",
    "\n"
   ]
  },
  {
   "cell_type": "code",
   "execution_count": 53,
   "id": "cf722d98",
   "metadata": {},
   "outputs": [
    {
     "name": "stdout",
     "output_type": "stream",
     "text": [
      "iteration 0: 1.6666666666666665\n",
      "iteration 1: 1.564102564102564\n",
      "iteration 2: 1.5615543876413442\n",
      "iteration 3: 1.5615528128094318\n",
      "iteration 4: 1.5615528128088303\n",
      "iteration 5: 1.5615528128088303\n"
     ]
    }
   ],
   "source": [
    "# Oppgave 6 d) Newton iteration\n",
    "lam = 4\n",
    "def r(u, lam):\n",
    "    return u + u**2 - lam\n",
    "\n",
    "def dr(u):\n",
    "    return 1 + 2*u\n",
    "\n",
    "lam = 4\n",
    "u0 = 1\n",
    "u_n = u0\n",
    "for i in range(6):\n",
    "    u_n1 = u_n - r(u_n, lam)/dr(u_n)\n",
    "    u_n = u_n1\n",
    "    print(f\"iteration {i}:\", u_n)\n"
   ]
  },
  {
   "cell_type": "code",
   "execution_count": 30,
   "id": "c9628616",
   "metadata": {},
   "outputs": [
    {
     "name": "stdout",
     "output_type": "stream",
     "text": [
      "Euler residual: -0.25\n",
      "Euler residual: -0.5\n",
      "Euler residual: -0.75\n",
      "Euler residual: -1.0\n",
      "Euler residual: -1.25\n"
     ]
    },
    {
     "data": {
      "text/plain": [
       "<matplotlib.legend.Legend at 0x232859d9520>"
      ]
     },
     "execution_count": 30,
     "metadata": {},
     "output_type": "execute_result"
    },
    {
     "data": {
      "image/png": "[encoded data removed]",
      "text/plain": [
       "<Figure size 432x288 with 1 Axes>"
      ]
     },
     "metadata": {
      "needs_background": "light"
     },
     "output_type": "display_data"
    }
   ],
   "source": [
    "# Oppgave 6a, residual equation stuff\n",
    "\n",
    "lams_euler_forward = [0]\n",
    "lams_euler_backward = [0]\n",
    "lams_trapezoidal = [0]\n",
    "\n",
    "us =  [0]\n",
    "\n",
    "def r(u, lam):\n",
    "    return u + u**2 - lam\n",
    "\n",
    "def dp(u):\n",
    "    return 1 + 2*u\n",
    "\n",
    "du = 0.5\n",
    "\n",
    "u = 0\n",
    "lam = 0\n",
    "for i in range(5):\n",
    "    u += du\n",
    "    lams_euler_forward.append(lams_euler_forward[-1] + dp(u)*du)\n",
    "    lams_euler_backward.append(lams_euler_backward[-1] + dp(u+du)*du)\n",
    "    lams_trapezoidal.append(lams_trapezoidal[-1] + 0.5*(dp(u)*du + dp(u+du)*du))\n",
    "    print(\"Euler residual:\", r(u, lams_euler_forward[-1]))\n",
    "   \n",
    "    us.append(u)\n",
    "\n",
    "plt.plot(us, lams_euler_forward, label=\"Euler forward\")\n",
    "#plt.plot(us, lams_euler_backward, label=\"Euler Backward\")\n",
    "#plt.plot(us, lams_trapezoidal, label=\"Trapezoidal\")\n",
    "plt.plot([0,3], [4,4] )\n",
    "plt.legend()"
   ]
  },
  {
   "cell_type": "code",
   "execution_count": 8,
   "id": "fa75fe0f",
   "metadata": {},
   "outputs": [],
   "source": [
    "# Oppgave 7"
   ]
  },
  {
   "cell_type": "code",
   "execution_count": 9,
   "id": "93d33b79",
   "metadata": {},
   "outputs": [],
   "source": [
    "# Oppgave 8"
   ]
  },
  {
   "cell_type": "code",
   "execution_count": 10,
   "id": "4a6f21fa",
   "metadata": {},
   "outputs": [],
   "source": [
    "# Old stuff 2019"
   ]
  },
  {
   "cell_type": "code",
   "execution_count": 11,
   "id": "11fe62a7",
   "metadata": {},
   "outputs": [],
   "source": [
    "F = 10\n",
    "def s(alph):\n",
    "    return 2*F/(tan(alph))"
   ]
  },
  {
   "cell_type": "code",
   "execution_count": 12,
   "id": "fedab2ea",
   "metadata": {},
   "outputs": [],
   "source": [
    "x = np.linspace(0.1, math.pi*0.45, 200)\n",
    "y = [s(a) for a in x]"
   ]
  },
  {
   "cell_type": "code",
   "execution_count": 13,
   "id": "6d92751f",
   "metadata": {},
   "outputs": [
    {
     "data": {
      "text/plain": [
       "[<matplotlib.lines.Line2D at 0x232844b3c40>]"
      ]
     },
     "execution_count": 13,
     "metadata": {},
     "output_type": "execute_result"
    },
    {
     "data": {
      "image/png": "[encoded data removed]",
      "text/plain": [
       "<Figure size 432x288 with 1 Axes>"
      ]
     },
     "metadata": {
      "needs_background": "light"
     },
     "output_type": "display_data"
    }
   ],
   "source": [
    "plt.plot(x*180/math.pi,y)\n",
    "plt.plot([0,80], [60,60])"
   ]
  },
  {
   "cell_type": "code",
   "execution_count": 14,
   "id": "78d88573",
   "metadata": {},
   "outputs": [],
   "source": [
    "#for ang, s in zip(x,y):\n",
    "#    print(round(ang, 1)*180/math.pi, round(s,1))"
   ]
  },
  {
   "cell_type": "code",
   "execution_count": 15,
   "id": "00b7e09e",
   "metadata": {},
   "outputs": [
    {
     "name": "stdout",
     "output_type": "stream",
     "text": [
      "a1 6.769761947129522\n",
      "a2 0.00022908666051106157\n"
     ]
    }
   ],
   "source": [
    "# Oppgave 3d) dampening\n",
    "w1 = 800*2*math.pi/60\n",
    "w2 = 8000*2*math.pi/60\n",
    "a1 = (2*w1*w2)*(0.05*w2 - 0.1*w1)/(w2**2-w1**2)\n",
    "print(\"a1\", a1)\n",
    "\n",
    "a2 = 2*(0.1*w2-0.05*w1)/(w2**2-w1**2)\n",
    "print(\"a2\", a2)\n"
   ]
  },
  {
   "cell_type": "code",
   "execution_count": 16,
   "id": "e5a2de0f",
   "metadata": {},
   "outputs": [
    {
     "name": "stdout",
     "output_type": "stream",
     "text": [
      "Deformation in local system\n",
      " [-0.12335021  0.          0.12335021  0.        ]\n"
     ]
    }
   ],
   "source": [
    "# Deformation element fra eksamen 2020\n",
    "x1 = np.array([1, 0.5])\n",
    "x2 = np.array([2.0, 1.0])\n",
    "v = [.2, .3, .5, -.1, 1, .6]\n",
    "\n",
    "v_glob1 = np.array([0.25, 0.3])\n",
    "v_glob2 = np.array([-0.1, 1])\n",
    "v_glob = np.concatenate((v_glob1, v_glob2))\n",
    "L0_vec = x2 - x1\n",
    "L0 = np.linalg.norm(L0_vec)\n",
    "Ld_vec = (x2 + v_glob2) - (x1+v_glob1)\n",
    "Ld = np.linalg.norm(Ld_vec)\n",
    "\n",
    "deformation = Ld - L0\n",
    "v_loc = np.array([-deformation/2, 0, deformation/2, 0])\n",
    "print(\"Deformation in local system\\n\", v_loc)"
   ]
  },
  {
   "cell_type": "code",
   "execution_count": 17,
   "id": "bb56b3d5",
   "metadata": {},
   "outputs": [
    {
     "name": "stdout",
     "output_type": "stream",
     "text": [
      "Utgangs-vinkel 0.4636476090008061\n",
      "Ny vinkel 1.042721878368537\n",
      "Deformation in local system\n",
      " [ 0.          0.         -0.07907427  0.27121041  0.          0.02092573]\n"
     ]
    }
   ],
   "source": [
    "# Deformation element fra eksamen 2019\n",
    "x1 = np.array([1, 0.5])\n",
    "x2 = np.array([2.0, 1.0])\n",
    "v = [.2, .3, .5, -.1, 1, .6]\n",
    "v_glob1 = v[:2]\n",
    "v_glob2 = v[3:5]\n",
    "\n",
    "L0_vec = x2 - x1 # vector that represents original bar\n",
    "L0 = np.linalg.norm(L0_vec) # Length of original bar\n",
    "\n",
    "org_vinkel = math.atan(L0_vec[1]/L0_vec[0]) # Angle of original bar\n",
    "\n",
    "\n",
    "Ld_vec = (x2 + v_glob2) - (x1+v_glob1)  # vector that represents new bar\n",
    "ny_vinkel = math.atan(Ld_vec[1]/Ld_vec[0]) # angle of new bar\n",
    "\n",
    "vinkel_endring = ny_vinkel - org_vinkel\n",
    "\n",
    "print(\"Utgangs-vinkel\", org_vinkel)\n",
    "print(\"Ny vinkel\", ny_vinkel)\n",
    "\n",
    "\n",
    "Ld = np.linalg.norm(Ld_vec) # Length of new bar\n",
    "\n",
    "deformation = Ld - L0\n",
    "\n",
    "def_vinkel1_loc = v[2] - vinkel_endring\n",
    "def_vinkel2_loc = v[5] - vinkel_endring\n",
    "\n",
    "\n",
    "v_loc = np.array([0, 0, def_vinkel1_loc, deformation, 0, def_vinkel2_loc ])\n",
    "print(\"Deformation in local system\\n\", v_loc)"
   ]
  },
  {
   "cell_type": "code",
   "execution_count": 18,
   "id": "4a12b7d8",
   "metadata": {},
   "outputs": [
    {
     "name": "stdout",
     "output_type": "stream",
     "text": [
      "Material stiffness in local system:\n",
      " [[ 894.427191    0.       -894.427191    0.      ]\n",
      " [   0.          0.          0.          0.      ]\n",
      " [-894.427191    0.        894.427191    0.      ]\n",
      " [   0.          0.          0.          0.      ]]\n",
      "\n",
      "Geometric stiffness in local system:\n",
      " [[   0.            0.            0.            0.        ]\n",
      " [   0.          174.61144025    0.         -174.61144025]\n",
      " [   0.            0.            0.            0.        ]\n",
      " [   0.         -174.61144025    0.         -174.61144025]]\n",
      "\n",
      "Tangent stiffness in local system:\n",
      " [[ 894.427191      0.         -894.427191      0.        ]\n",
      " [   0.          174.61144025    0.         -174.61144025]\n",
      " [-894.427191      0.          894.427191      0.        ]\n",
      " [   0.         -174.61144025    0.         -174.61144025]]\n",
      "\n",
      "Internal Forces in local system:\n",
      " [-242.57796536    0.          242.57796536    0.        ]\n",
      "\n",
      "\n",
      "\n",
      "\n",
      "\n"
     ]
    },
    {
     "ename": "NameError",
     "evalue": "name 'T_el' is not defined",
     "output_type": "error",
     "traceback": [
      "\u001b[1;31m---------------------------------------------------------------------------\u001b[0m",
      "\u001b[1;31mNameError\u001b[0m                                 Traceback (most recent call last)",
      "\u001b[1;32m~\\AppData\\Local\\Temp/ipykernel_31784/1336794256.py\u001b[0m in \u001b[0;36m<module>\u001b[1;34m\u001b[0m\n\u001b[0;32m     29\u001b[0m \u001b[1;31m#print(K_mat)\u001b[0m\u001b[1;33m\u001b[0m\u001b[1;33m\u001b[0m\u001b[1;33m\u001b[0m\u001b[0m\n\u001b[0;32m     30\u001b[0m \u001b[0mprint\u001b[0m\u001b[1;33m(\u001b[0m\u001b[1;34m\"\\n\\n\\n\\n\"\u001b[0m\u001b[1;33m)\u001b[0m\u001b[1;33m\u001b[0m\u001b[1;33m\u001b[0m\u001b[0m\n\u001b[1;32m---> 31\u001b[1;33m \u001b[0mF_int_glob\u001b[0m \u001b[1;33m=\u001b[0m \u001b[0mT_el\u001b[0m\u001b[1;33m.\u001b[0m\u001b[0mtranspose\u001b[0m\u001b[1;33m(\u001b[0m\u001b[1;33m)\u001b[0m\u001b[1;33m\u001b[0m\u001b[1;33m\u001b[0m\u001b[0m\n\u001b[0m\u001b[0;32m     32\u001b[0m \u001b[0mprint\u001b[0m\u001b[1;33m(\u001b[0m\u001b[1;34m\"Global internal forces: \\n\"\u001b[0m\u001b[1;33m,\u001b[0m \u001b[0mF_int_glob\u001b[0m\u001b[1;33m)\u001b[0m\u001b[1;33m\u001b[0m\u001b[1;33m\u001b[0m\u001b[0m\n",
      "\u001b[1;31mNameError\u001b[0m: name 'T_el' is not defined"
     ]
    }
   ],
   "source": [
    "# Stiffness in local system\n",
    "EA = 1000\n",
    "k = EA / L0\n",
    "\n",
    "K_mat = np.array([[k, 0, -k, 0],\n",
    "                  [0, 0, 0, 0],\n",
    "                  [-k, 0, k, 0],\n",
    "                  [0, 0, 0, 0]])\n",
    "print(\"Material stiffness in local system:\\n\", K_mat)\n",
    "\n",
    "N = k*deformation\n",
    "kg = N/Ld\n",
    "\n",
    "K_geo = np.array([[0, 0, 0, 0],\n",
    "                  [0, kg, 0, -kg],\n",
    "                  [0, 0, 0, 0],\n",
    "                  [0, -kg, 0, -kg]])\n",
    "print(\"\\nGeometric stiffness in local system:\\n\", K_geo)\n",
    "\n",
    "K_tan_loc = K_mat + K_geo\n",
    "print(\"\\nTangent stiffness in local system:\\n\", K_tan_loc)\n",
    "\n",
    "v_loc2 = list(v_loc[:2])\n",
    "v_loc2.extend(v_loc[3:5])\n",
    "#print(v_loc2)\n",
    "F_int1 = np.matmul(K_mat, v_loc2)\n",
    "F_int1 = np.matmul(v_loc2, K_mat)\n",
    "print(\"\\nInternal Forces in local system:\\n\", F_int1)\n",
    "#print(K_mat)\n",
    "print(\"\\n\\n\\n\\n\")\n",
    "F_int_glob = T_el.transpose()\n",
    "print(\"Global internal forces: \\n\", F_int_glob)"
   ]
  },
  {
   "cell_type": "code",
   "execution_count": null,
   "id": "2d9aec32",
   "metadata": {},
   "outputs": [],
   "source": [
    "# Transformation matrix, samme oppgave\n",
    "e_x = Ld_vec / Ld\n",
    "e_y = np.array([-e_x[1], e_x[0]])\n",
    "T_small = np.array([e_x, e_y])\n",
    "print(\"Tsmall: \\n\", T_small)\n",
    "\n",
    "T_el = np.zeros([4,4])\n",
    "T_el[0:2, 0:2] = T_small[:,:]\n",
    "T_el[2:4, 2:4] = T_small[:,:]\n",
    "print(\"\")\n",
    "print(\"T_el: \\n\", T_el)"
   ]
  },
  {
   "cell_type": "code",
   "execution_count": null,
   "id": "0c7032a1",
   "metadata": {},
   "outputs": [],
   "source": []
  },
  {
   "cell_type": "code",
   "execution_count": null,
   "id": "84c318ce",
   "metadata": {},
   "outputs": [],
   "source": [
    "# Oppgave 6 euler stuff\n",
    "def r(theta, lam):\n",
    "    return math.tan(theta) - lam\n",
    "def dr(theta, lam):\n",
    "    return 1/(math.cos(theta))**2"
   ]
  },
  {
   "cell_type": "code",
   "execution_count": null,
   "id": "664754f3",
   "metadata": {},
   "outputs": [],
   "source": [
    "lam_0 = 0\n",
    "theta_0 = 0\n",
    "thetas = [theta_0]\n",
    "lams = [lam_0]\n",
    "\n",
    "theta = theta_0\n",
    "lam = lam_0\n",
    "for i in range(3):\n",
    "    theta += 0.4\n",
    "    lam = lam + dr(theta, lam)*0.4\n",
    "    thetas.append(theta)\n",
    "    lams.append(lam)\n",
    "    #print(\"residual:\", r(theta, lam))\n",
    "    \n",
    "plt.plot(thetas, lams)\n",
    "\n",
    "\n",
    "thetas = [theta_0]\n",
    "lams = [lam_0]\n",
    "\n",
    "theta = theta_0\n",
    "lam = lam_0\n",
    "for i in range(100):\n",
    "    theta += 0.01\n",
    "    lam = lam + dr(theta, lam)*0.01\n",
    "    thetas.append(theta)\n",
    "    lams.append(lam)\n",
    "    #print(\"residual:\", r(theta, lam))\n",
    "    \n",
    "plt.plot(thetas, lams)\n",
    "\n",
    "\n",
    "plt.plot([0, 1.2], [1.5, 1.5])\n",
    "\n",
    "    \n",
    "\n",
    "print(\"Svar er ca 0.85\")\n",
    "print(\"Ved å se på grafen kan det estimeres til 0.83\", r(0.98, 1.5))\n",
    "print(\"Ved høyere presisjon blir svaret ca 0.98\", r(0.98, 1.5))"
   ]
  },
  {
   "cell_type": "code",
   "execution_count": null,
   "id": "f63a9d94",
   "metadata": {},
   "outputs": [],
   "source": []
  }
 ],
 "metadata": {
  "kernelspec": {
   "display_name": "Python 3 (ipykernel)",
   "language": "python",
   "name": "python3"
  },
  "language_info": {
   "codemirror_mode": {
    "name": "ipython",
    "version": 3
   },
   "file_extension": ".py",
   "mimetype": "text/x-python",
   "name": "python",
   "nbconvert_exporter": "python",
   "pygments_lexer": "ipython3",
   "version": "3.9.7"
  }
 },
 "nbformat": 4,
 "nbformat_minor": 5
}
