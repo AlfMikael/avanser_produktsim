{
 "cells": [
  {
   "cell_type": "code",
   "execution_count": 1,
   "id": "b478ce87",
   "metadata": {},
   "outputs": [],
   "source": [
    "import matplotlib.pyplot as plt\n",
    "import math\n",
    "import numpy as np"
   ]
  },
  {
   "cell_type": "code",
   "execution_count": 21,
   "id": "68ca5a37",
   "metadata": {},
   "outputs": [],
   "source": [
    "def r(u, lam):\n",
    "    r1 = u[0] + 2*u[0]**3 - u[1]**2 - 2*lam\n",
    "    r2 = 3*u[1] - 2*u[0]*u[1] - lam\n",
    "    return np.array([r1, r2])\n",
    "def K(u):\n",
    "    K11 = (1 + 6*u[0]**2)\n",
    "    K12 = (-2*u[1])\n",
    "    K21 = K12\n",
    "    K22 = 3 - u[0]\n",
    "    return np.array([[K11, K12], [K21, K22]])\n"
   ]
  },
  {
   "cell_type": "code",
   "execution_count": 22,
   "id": "804783ae",
   "metadata": {},
   "outputs": [
    {
     "data": {
      "text/plain": [
       "array([-0.2, -0.3])"
      ]
     },
     "execution_count": 22,
     "metadata": {},
     "output_type": "execute_result"
    }
   ],
   "source": [
    "u0 = [0,0]\n",
    "r_0 = r(u0, 0.1)\n",
    "K_0 = K(u0)\n",
    "np.matmul(r_0, K_0)"
   ]
  },
  {
   "cell_type": "code",
   "execution_count": 26,
   "id": "2d4900e3",
   "metadata": {},
   "outputs": [
    {
     "name": "stdout",
     "output_type": "stream",
     "text": [
      "[0.99821958 0.88961424]\n",
      "[0.97953506 0.92656832]\n",
      "[0.9858338  0.94991927]\n",
      "[0.99023208 0.96557004]\n",
      "[0.99323303 0.97619912]\n"
     ]
    },
    {
     "data": {
      "text/plain": [
       "array([-5.94169505e-05, -1.05890484e-02])"
      ]
     },
     "execution_count": 26,
     "metadata": {},
     "output_type": "execute_result"
    }
   ],
   "source": [
    "# Getting different result than textbook for some reason\n",
    "max_iterations = 5\n",
    "u0 = [0.8, 0.8]\n",
    "lam = 1\n",
    "uk = u0\n",
    "for i in range(max_iterations):\n",
    "    ukpt = uk - np.dot(np.linalg.inv(K(uk)), r(uk, lam))\n",
    "    uk = ukpt\n",
    "    print(ukpt)\n",
    "\n",
    "r(uk, lam)"
   ]
  },
  {
   "cell_type": "code",
   "execution_count": 27,
   "id": "0ec64df9",
   "metadata": {},
   "outputs": [
    {
     "name": "stdout",
     "output_type": "stream",
     "text": [
      "[0.99821958 0.88961424]\n",
      "[0.97953506 0.92656832]\n",
      "[0.9858338  0.94991927]\n",
      "[0.99023208 0.96557004]\n",
      "[0.99323303 0.97619912]\n"
     ]
    },
    {
     "data": {
      "text/plain": [
       "array([-5.94169505e-05, -1.05890484e-02])"
      ]
     },
     "execution_count": 27,
     "metadata": {},
     "output_type": "execute_result"
    }
   ],
   "source": [
    "# Approximation same solution, even though textbook says it shouldnt\n",
    "\n",
    "max_iterations = 5\n",
    "u0 = [0.8, 0.8]\n",
    "lam = 1\n",
    "uk = u0\n",
    "for i in range(max_iterations):\n",
    "    ukpt = uk - np.dot(np.linalg.inv(K(uk)), r(uk, lam))\n",
    "    uk = ukpt\n",
    "    print(ukpt)\n",
    "\n",
    "r(uk, lam)"
   ]
  },
  {
   "cell_type": "code",
   "execution_count": 30,
   "id": "3c7d9fe5",
   "metadata": {},
   "outputs": [
    {
     "name": "stdout",
     "output_type": "stream",
     "text": [
      "[1.18281551 1.57873462]\n",
      "[1.1821345  1.57672573]\n",
      "[1.18108289 1.57359588]\n",
      "[1.17945497 1.56874866]\n",
      "[1.17695866 1.56131059]\n",
      "[1.17318557 1.55005596]\n",
      "[1.16760464 1.53338058]\n",
      "[1.15960616 1.50941926]\n",
      "[1.14864081 1.47643901]\n",
      "[1.13447429 1.43357708]\n",
      "[1.11748004 1.3817184 ]\n",
      "[1.09876001 1.32392281]\n",
      "[1.0798991  1.26482331]\n",
      "[1.06243651 1.20915905]\n",
      "[1.04740431 1.16037595]\n",
      "[1.0351921  1.12006867]\n",
      "[1.02569179 1.08825103]\n",
      "[1.01852883 1.06397772]\n",
      "[1.01324655 1.04591556]\n",
      "[1.00941141 1.03271388]\n",
      "[1.00665721 1.02318711]\n",
      "[1.00469439 1.01637412]\n",
      "[1.00330305 1.01153283]\n",
      "[1.00232051 1.00810803]\n",
      "[1.00162847 1.00569289]\n",
      "[1.00114196 1.00399352]\n",
      "[1.00080036 1.00279964]\n",
      "[1.00056074 1.0019618 ]\n",
      "[1.00039276 1.00137426]\n",
      "[1.00027505 1.00096248]\n"
     ]
    }
   ],
   "source": [
    "# Approximation same solution, even though textbook says it shouldnt\n",
    "\n",
    "max_iterations = 30\n",
    "u0 = [1.18, 1.58]\n",
    "lam = 1\n",
    "uk = u0\n",
    "for i in range(max_iterations):\n",
    "    ukpt = uk - np.dot(np.linalg.inv(K(uk)), r(uk, lam))\n",
    "    uk = ukpt\n",
    "    print(ukpt)"
   ]
  },
  {
   "cell_type": "code",
   "execution_count": 29,
   "id": "ccfbd24a",
   "metadata": {},
   "outputs": [
    {
     "data": {
      "text/plain": [
       "-2.6999999999999996e-05"
      ]
     },
     "execution_count": 29,
     "metadata": {},
     "output_type": "execute_result"
    }
   ],
   "source": []
  },
  {
   "cell_type": "code",
   "execution_count": null,
   "id": "946e75b1",
   "metadata": {},
   "outputs": [],
   "source": []
  }
 ],
 "metadata": {
  "kernelspec": {
   "display_name": "Python 3 (ipykernel)",
   "language": "python",
   "name": "python3"
  },
  "language_info": {
   "codemirror_mode": {
    "name": "ipython",
    "version": 3
   },
   "file_extension": ".py",
   "mimetype": "text/x-python",
   "name": "python",
   "nbconvert_exporter": "python",
   "pygments_lexer": "ipython3",
   "version": "3.9.6"
  }
 },
 "nbformat": 4,
 "nbformat_minor": 5
}
